{
 "cells": [
  {
   "cell_type": "code",
   "execution_count": 5,
   "metadata": {},
   "outputs": [],
   "source": [
    "import pickle5 as pickle\n",
    "import numpy as np\n",
    "import matplotlib.pyplot as plt\n"
   ]
  },
  {
   "cell_type": "code",
   "execution_count": 6,
   "metadata": {},
   "outputs": [],
   "source": [
    "# open the data\n",
    "pkl_file = open(\"/Users/liyurun/DataAnalysis_Seino/data/distance_20200613/distance_data_20200613.pkl\",\"rb\")\n",
    "data = pickle.load(pkl_file)\n",
    "pkl_file.close()"
   ]
  },
  {
   "cell_type": "code",
   "execution_count": 9,
   "metadata": {},
   "outputs": [
    {
     "data": {
      "text/plain": [
       "array([[ 35.3537817, 136.6055703],\n",
       "       [ 35.3550777, 136.6069943],\n",
       "       [ 35.3596804, 136.6041777],\n",
       "       [ 35.3604738, 136.6073637],\n",
       "       [ 35.3644233, 136.6153787],\n",
       "       [ 35.3625716, 136.6172645],\n",
       "       [ 35.375565 , 136.6207   ],\n",
       "       [ 34.6797165, 135.5338832],\n",
       "       [ 35.3661958, 136.6178395],\n",
       "       [ 35.3663734, 136.6194059],\n",
       "       [ 35.3648297, 136.617386 ],\n",
       "       [ 35.3640365, 136.6194888],\n",
       "       [ 35.3648526, 136.6187082]])"
      ]
     },
     "execution_count": 9,
     "metadata": {},
     "output_type": "execute_result"
    }
   ],
   "source": [
    "# test for 3rd driver's location.\n",
    "loc = data[2][0][2]\n",
    "loc"
   ]
  },
  {
   "cell_type": "code",
   "execution_count": 4,
   "metadata": {},
   "outputs": [],
   "source": [
    "def cal_dis(lat1, lon1, lat2, lon2):\n",
    "    lat1 = (math.pi / 180) * lat1\n",
    "    lat2 = (math.pi / 180) * lat2\n",
    "    lon1 = (math.pi / 180) * lon1\n",
    "    lon2 = (math.pi / 180) * lon2\n",
    "\n",
    "    R = 6378.137\n",
    "    if (lat1 != lat2) & (lon1 != lon2) :\n",
    "        d = math.acos(math.sin(lat1) * math.sin(lat2) + math.cos(lat1) * math.cos(lat2) * math.cos(lon2 - lon1)) * R * 1000\n",
    "    else:\n",
    "        d = 0\n",
    "    return d"
   ]
  },
  {
   "cell_type": "code",
   "execution_count": 42,
   "metadata": {},
   "outputs": [],
   "source": [
    "# 距离函数\n",
    "def distance(vec1, vec2):\n",
    "    return np.linalg.norm(np.array(vec1) - np.array(vec2))\n",
    "def init_chromos(start=-1, gene_len=-1):\n",
    "    chroms = []  # 所有种群\n",
    "    for i in range(population_num):\n",
    "        gene = list(range(gene_len))  # 染色体基因编码\n",
    "        np.random.shuffle(gene)\n",
    "        # 调换染色体的头部基因为给定的基因\n",
    "        if start != -1:\n",
    "            for j, g in enumerate(gene):\n",
    "                if g == start:\n",
    "                    gene[0], gene[j] = gene[j], gene[0]\n",
    "        chroms.append(gene)\n",
    "    return chroms\n",
    "# 适应度打分函数，返回该染色体的适应度(优秀)分数\n",
    "def calc_fin_ness(citys, gens):\n",
    "    gens = np.copy(gens)\n",
    "    gens = np.append(gens, gens[0])  # 在染色体的末尾添加上头部基因\n",
    "    D = np.sum([distance(citys[gens[i]], citys[gens[i+1]]) for i in range(len(gens) - 1)])\n",
    "    return 1.0 / D\n",
    "# 赌徒转盘(精英染色体被选中的概率与适应度函数打分的结果成正比)\n",
    "def roulette_gambler(fit_pros, chroms):\n",
    "    pick = np.random.random()\n",
    "    for j in range(len(chroms)):\n",
    "        pick -= fit_pros[j]\n",
    "        if pick <= 0:\n",
    "            return j\n",
    "    return 0\n",
    "def choice(citys, chroms):\n",
    "    n = len(chroms)\n",
    "    fit_pros = []\n",
    "    [fit_pros.append(calc_fin_ness(citys, chroms[i])) for i in range(n)]\n",
    "    choice_gens = []\n",
    "    for i in range(n):\n",
    "        j = roulette_gambler(fit_pros, chroms)  # 采用赌徒转盘选择出一个更好的染色体\n",
    "        choice_gens.append(chroms[j])  # 选中一个染色体\n",
    "    for i in range(n):\n",
    "        chroms[i] = choice_gens[i]  # 优胜劣汰，替换出更精英的染色体\n",
    "    return chroms\n",
    "# 染色体交叉操作(两个染色体互相杂交基因片段，用于产生新的染色体，影响全局寻优能力)\n",
    "def cross(chroms):\n",
    "    gens_len = len(chroms[0])\n",
    "    move = 0  # 当前基因移动的位置\n",
    "    while move < gens_len - 1:\n",
    "        cur_pro = np.random.random()  # 决定是否进行交叉操作\n",
    "        # 本次不进行交叉操作\n",
    "        if cur_pro > cross_pro:\n",
    "            move += 2\n",
    "            continue\n",
    "        parent1, parent2 = move, move + 1  # 准备杂交的两个染色体(种群)\n",
    "        index1 = np.random.randint(1, gens_len - 2)\n",
    "        index2 = np.random.randint(index1, gens_len - 2)\n",
    "        if index1 == index2:\n",
    "            continue\n",
    "        temp_gen1 = chroms[parent1][index1:index2+1]  # 交叉的基因片段1\n",
    "        temp_gen2 = chroms[parent2][index1:index2+1]  # 交叉的基因片段2\n",
    "        # 杂交插入染色体片段\n",
    "        temp_parent1, temp_parent2 = np.copy(chroms[parent1]).tolist(), np.copy(chroms[parent2]).tolist()\n",
    "        temp_parent1[index1:index2+1] = temp_gen2\n",
    "        temp_parent2[index1:index2+1] = temp_gen1\n",
    "        # 消去冲突\n",
    "        pos = index1 + len(temp_gen1)  # 插入杂交基因片段的结束位置\n",
    "        conflict1_ids, conflict2_ids = [], []\n",
    "        [conflict1_ids.append(i) for i, v in enumerate(temp_parent1) if v in temp_parent1[index1:pos]\n",
    "         and i not in list(range(index1, pos))]\n",
    "        [conflict2_ids.append(i) for i, v in enumerate(temp_parent2) if v in temp_parent2[index1:pos]\n",
    "         and i not in list(range(index1, pos))]\n",
    "        for i, j in zip(conflict1_ids, conflict2_ids):\n",
    "            temp_parent1[i], temp_parent2[j] = temp_parent2[j], temp_parent1[i]\n",
    "        chroms[parent1] = temp_parent1\n",
    "        chroms[parent2] = temp_parent2\n",
    "        move += 2\n",
    "    return chroms\n",
    "# 变异操作(随机调换单个染色体的基因位置)\n",
    "def mutation(chroms):\n",
    "    n = len(chroms)\n",
    "    gens_len = len(chroms[0])\n",
    "    for i in range(n):\n",
    "        cur_pro = np.random.random()  # 决定是否进行变异操作\n",
    "        # 本次不进行变异操作\n",
    "        if cur_pro > mutation_pro:\n",
    "            continue\n",
    "        index1 = np.random.randint(1, gens_len - 2)\n",
    "        index2 = np.random.randint(1, gens_len - 2)\n",
    "        chroms[i][index1], chroms[i][index2] = chroms[i][index2], chroms[i][index1]\n",
    "    return chroms\n",
    "# 逆转操作(让单个染色体逆转之后变得更加优秀)\n",
    "def reverse(citys, chroms):\n",
    "    n = len(chroms)\n",
    "    gens_len = len(chroms[0])\n",
    "    for i in range(n):\n",
    "        flag = 0\n",
    "        while flag == 0:\n",
    "            index1 = np.random.randint(1, gens_len - 2)\n",
    "            index2 = np.random.randint(index1, gens_len - 2)\n",
    "            if index1 == index2:\n",
    "                continue\n",
    "            temp_chrom = np.copy(chroms[i])\n",
    "            temp_chrom = temp_chrom.tolist()\n",
    "            temp_gen = temp_chrom[index1:index2+1]\n",
    "            temp_gen.reverse()\n",
    "            temp_chrom[index1:index2 + 1] = temp_gen\n",
    "            fit_score1 = calc_fin_ness(citys, chroms[i])\n",
    "            fit_score2 = calc_fin_ness(citys, temp_chrom)\n",
    "            # 说明经过逆转操作后的染色体将变得更加优秀\n",
    "            if fit_score2 > fit_score1:\n",
    "                chroms[i] = temp_chrom  # 更新染色体为逆转染色体\n",
    "            flag = 1\n",
    "    return chroms\n",
    "# 可视化画出哈密顿回路\n",
    "def draw_H(citys, best_gens):\n",
    "    H_path = []\n",
    "    [H_path.append((cur_gen, best_gens[i+1])) for i, cur_gen in enumerate(best_gens[:-1])]\n",
    "    fig = plt.figure()\n",
    "    ax = fig.add_subplot(111)\n",
    "    plt.xlim(0, 7)\n",
    "    plt.ylim(0, 7)\n",
    "    for (from_, to_) in H_path:\n",
    "        p1 = plt.Circle(citys[from_], color='red')\n",
    "        p2 = plt.Circle(citys[to_], color='green')\n",
    "        ax.add_patch(p1)\n",
    "        ax.add_patch(p2)\n",
    "        ax.plot((citys[from_][0], citys[to_][0]), (citys[from_][1], citys[to_][1]), color='red')\n",
    "        ax.annotate(s=chr(97 + to_), xy=citys[to_], xytext=(-8, -4), textcoords='offset points', fontsize=20)\n",
    "    ax.axis('equal')\n",
    "    ax.grid()\n",
    "    plt.show()"
   ]
  },
  {
   "cell_type": "code",
   "execution_count": 43,
   "metadata": {},
   "outputs": [],
   "source": [
    "max_evolution_num = 200  # 最大进化代数\n",
    "population_num = 100  # 种群数目\n",
    "cross_pro = 0.6  # 交叉概率\n",
    "mutation_pro = 0.1  # 变异概率\n",
    "citys = loc  # 城市坐标\n",
    "best_gens = [-1 for _ in range(len(citys))]  # 精英染色体(基因排列)\n",
    "min_distance = np.inf  # 最短路径长度\n",
    "best_fit_index = 0  # 最短路径出现的代数\n",
    "start = 0  # 种群的初始位置"
   ]
  },
  {
   "cell_type": "code",
   "execution_count": 44,
   "metadata": {},
   "outputs": [
    {
     "name": "stdout",
     "output_type": "stream",
     "text": [
      "通过200代的基因进化，精英染色体出现在第6代，基因序列为：\n",
      "a,b,k,f,e,m,l,j,g,i,d,c,h,a\n",
      "精英染色体映射的最短路径为：2.596274175464136\n"
     ]
    },
    {
     "name": "stderr",
     "output_type": "stream",
     "text": [
      "/opt/miniconda3/envs/jupyter_env/lib/python3.7/site-packages/ipykernel_launcher.py:125: MatplotlibDeprecationWarning: The 's' parameter of annotate() has been renamed 'text' since Matplotlib 3.3; support for the old name will be dropped two minor releases later.\n"
     ]
    }
   ],
   "source": [
    "max_evolution_num = 200  # 最大进化代数\n",
    "population_num = 100  # 种群数目\n",
    "cross_pro = 0.6  # 交叉概率\n",
    "mutation_pro = 0.1  # 变异概率\n",
    "citys = loc  # 城市坐标\n",
    "best_gens = [-1 for _ in range(len(citys))]  # 精英染色体(基因排列)\n",
    "min_distance = np.inf  # 最短路径长度\n",
    "best_fit_index = 0  # 最短路径出现的代数\n",
    "start = 0  # 种群的初始位置\n",
    "# 开始达尔文进化\n",
    "for step in range(max_evolution_num):\n",
    "    distance_arr = []  # 每一个染色体的总路程数组\n",
    "    chroms = init_chromos(start=start, gene_len=len(citys))  # 种群初始化，得到所有种群\n",
    "    chroms = choice(citys, chroms)  # 选择操作，选择出每个种群的精英染色体\n",
    "    chroms = cross(chroms)  # 交叉操作，两个染色体互相杂交产生新的染色体\n",
    "    chroms = mutation(chroms)  # 变异操作，单个染色体变异\n",
    "    chroms = reverse(citys, chroms)  # 变异操作，单个染色体变得更加优秀\n",
    "    [distance_arr.append(1.0 / calc_fin_ness(citys, chroms[i])) for i in range(len(chroms))]\n",
    "    best_gens_idx = np.argmin(distance_arr)  # 找到最短的路径位置，对应于精英染色体位置\n",
    "    if distance_arr[best_gens_idx] < min_distance:\n",
    "        min_distance = distance_arr[best_gens_idx]  # 更新最短路径\n",
    "        best_gens = chroms[best_gens_idx]  # 更新精英染色体\n",
    "        best_gens.append(start)\n",
    "        best_fit_index += 1  # 更新最短路径出现的代数\n",
    "print('通过{}代的基因进化，精英染色体出现在第{}代，基因序列为：'.format(max_evolution_num, best_fit_index))\n",
    "[print(chr(97 + v), end=',' if i < len(best_gens) - 1 else '\\n') for i, v in enumerate(best_gens)]\n",
    "print('精英染色体映射的最短路径为：{}'.format(min_distance))\n",
    "draw_H(citys, best_gens)"
   ]
  },
  {
   "cell_type": "code",
   "execution_count": 21,
   "metadata": {},
   "outputs": [
    {
     "data": {
      "text/plain": [
       "1.4142135623730951"
      ]
     },
     "execution_count": 21,
     "metadata": {},
     "output_type": "execute_result"
    }
   ],
   "source": [
    "a=[[1,1],[2,2]]\n",
    "np.linalg.norm([np.array(a[0])-np.array(a[1])])"
   ]
  },
  {
   "cell_type": "code",
   "execution_count": 36,
   "metadata": {},
   "outputs": [],
   "source": [
    "listloc=[]\n",
    "for i in range(len(loc)):\n",
    "    listloc.append(tuple(loc[i]))"
   ]
  },
  {
   "cell_type": "code",
   "execution_count": 35,
   "metadata": {},
   "outputs": [
    {
     "data": {
      "text/plain": [
       "(35.3537817, 136.6055703)"
      ]
     },
     "execution_count": 35,
     "metadata": {},
     "output_type": "execute_result"
    }
   ],
   "source": [
    "tuple(loc[0])"
   ]
  },
  {
   "cell_type": "code",
   "execution_count": 37,
   "metadata": {},
   "outputs": [
    {
     "data": {
      "text/plain": [
       "[(35.3537817, 136.6055703),\n",
       " (35.3550777, 136.6069943),\n",
       " (35.3596804, 136.6041777),\n",
       " (35.3604738, 136.6073637),\n",
       " (35.3644233, 136.6153787),\n",
       " (35.3625716, 136.6172645),\n",
       " (35.375565, 136.6207),\n",
       " (34.6797165, 135.5338832),\n",
       " (35.3661958, 136.6178395),\n",
       " (35.3663734, 136.6194059),\n",
       " (35.3648297, 136.617386),\n",
       " (35.3640365, 136.6194888),\n",
       " (35.3648526, 136.6187082)]"
      ]
     },
     "execution_count": 37,
     "metadata": {},
     "output_type": "execute_result"
    }
   ],
   "source": [
    "listloc"
   ]
  },
  {
   "cell_type": "code",
   "execution_count": null,
   "metadata": {},
   "outputs": [],
   "source": []
  }
 ],
 "metadata": {
  "kernelspec": {
   "display_name": "Python 3",
   "language": "python",
   "name": "python3"
  },
  "language_info": {
   "codemirror_mode": {
    "name": "ipython",
    "version": 3
   },
   "file_extension": ".py",
   "mimetype": "text/x-python",
   "name": "python",
   "nbconvert_exporter": "python",
   "pygments_lexer": "ipython3",
   "version": "3.7.9"
  },
  "widgets": {
   "application/vnd.jupyter.widget-state+json": {
    "state": {},
    "version_major": 2,
    "version_minor": 0
   }
  }
 },
 "nbformat": 4,
 "nbformat_minor": 4
}
