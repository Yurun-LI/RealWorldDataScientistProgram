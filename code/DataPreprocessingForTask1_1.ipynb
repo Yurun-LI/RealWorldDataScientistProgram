{
 "cells": [
  {
   "cell_type": "code",
   "execution_count": 1,
   "metadata": {},
   "outputs": [],
   "source": [
    "import os\n",
    "\n",
    "import matplotlib.pyplot as plt\n",
    "import numpy as np\n",
    "import pandas as pd\n",
    "\n",
    "\n",
    "class FileProcess(object):\n",
    "    def __init__(self, folder_address):\n",
    "        self.folder_address = folder_address\n",
    "\n",
    "    def find_dir(self):\n",
    "        files_name = os.listdir(self.folder_address)\n",
    "        filesPath = []\n",
    "        for i in files_name:\n",
    "            filesPath.append(self.folder_address + i)\n",
    "        return filesPath\n",
    "\n",
    "\n",
    "def DataPreprocessing():\n",
    "    my_files = FileProcess('/Users/liyurun/Downloads/OneDrive_1_11-18-2020/提供データ/配達実績/')\n",
    "    files_path = my_files.find_dir()\n",
    "    df = pd.read_excel(files_path[10], usecols=[0, 1, 2, 5, 6, 7, 10, 11, 12, 13, 19, 20, 30])\n",
    "    df_day = df[df['持出日付'] == 20200613]\n",
    "    day_data = df_day[(df_day['配達乗務員\\nコード'] != 0) & (df_day['緯度＿完了優先'] != 0) & (df_day['経度＿完了優先'] != 0)]\n",
    "    day_data = day_data.reset_index(drop=True)\n",
    "    day_data = day_data.sort_values(by=['配達乗務員\\nコード', '持出時刻', '完了時刻'], axis=0)\n",
    "    data_grouped = day_data.groupby(by='配達乗務員\\nコード')\n",
    "    driver_id = list(data_grouped.size().index)\n",
    "    return driver_id, day_data\n",
    "\n",
    "\n",
    "def DriverData(one_of_driver_id, day_data):  # input one of driver's id code\n",
    "    return day_data[day_data['配達乗務員\\nコード'] == one_of_driver_id]  # select the data of this driver\n",
    "\n",
    "\n",
    "class LocationSearch(object):\n",
    "    def __init__(self, driver_data, driver_id):\n",
    "        self.Data = driver_data\n",
    "        self.driver_id = driver_id\n",
    "        self.start_time = driver_data['持出時刻'].values.tolist()\n",
    "        self.number = driver_data['個数'].values.tolist()\n",
    "        self.longitude = driver_data['経度＿完了優先'].values.tolist()\n",
    "        self.latitude = driver_data['緯度＿完了優先'].values.tolist()\n",
    "        self.end_time = driver_data['完了時刻'].values.tolist()\n",
    "\n",
    "    def delivery(self):\n",
    "        count = 0\n",
    "        count_mark = []\n",
    "        temp = self.end_time[0]\n",
    "        for i in range(len(self.start_time)):\n",
    "            if self.start_time[i] // 100 < temp:\n",
    "                count_mark.append(count)\n",
    "            else:\n",
    "                count += 1\n",
    "                temp = self.end_time[i]\n",
    "                count_mark.append(count)\n",
    "\n",
    "        loc_x = []\n",
    "        loc_y = []\n",
    "        for i in range(count + 1):\n",
    "            loc_x.append([])\n",
    "            loc_y.append([])\n",
    "            loc_x[i].append(self.latitude[count_mark.index(i)])\n",
    "            loc_y[i].append(self.longitude[count_mark.index(i)])\n",
    "\n",
    "        for i in range(count + 1):\n",
    "            if count_mark.count(i) > 1:\n",
    "                for j in range(count_mark.index(i) + 1, count_mark.index(i) + count_mark.count(i)):\n",
    "                    if self.end_time[j] != self.end_time[j - 1]:\n",
    "                        loc_x[i].append(self.latitude[j])\n",
    "                        loc_y[i].append(self.longitude[j])\n",
    "        loc = []\n",
    "        for i in range(count + 1):\n",
    "            loc.append([])\n",
    "            for j in range(len(loc_x[i])):\n",
    "                loc[i].append([])\n",
    "            for j in range(len(loc_x[i])):\n",
    "                loc[i][j].append(loc_x[i][j])\n",
    "                loc[i][j].append(loc_y[i][j])\n",
    "        return loc, loc_x, loc_y"
   ]
  },
  {
   "cell_type": "code",
   "execution_count": 2,
   "metadata": {},
   "outputs": [],
   "source": [
    "driver_id, day_data = DataPreprocessing()\n",
    "driver_data = DriverData(driver_id[-1], day_data)\n",
    "location = LocationSearch(driver_data, driver_id)\n",
    "position = np.array(location.delivery()[0][0])"
   ]
  },
  {
   "cell_type": "code",
   "execution_count": 3,
   "metadata": {},
   "outputs": [
    {
     "data": {
      "text/plain": [
       "array([[ 35.3467755, 136.6335807],\n",
       "       [ 35.3479707, 136.6304314],\n",
       "       [ 35.3471914, 136.6341293],\n",
       "       [ 35.350487 , 136.6297351],\n",
       "       [ 35.3507923, 136.6305575],\n",
       "       [ 35.3515581, 136.6336142],\n",
       "       [ 35.3544407, 136.6327433],\n",
       "       [ 35.3553003, 136.6363896],\n",
       "       [ 35.3577956, 136.6363314],\n",
       "       [ 35.3554103, 136.6267865],\n",
       "       [ 35.3547903, 136.627796 ],\n",
       "       [ 35.3537799, 136.6283168],\n",
       "       [ 35.3615012, 136.6262586],\n",
       "       [ 35.362901 , 136.624016 ]])"
      ]
     },
     "execution_count": 3,
     "metadata": {},
     "output_type": "execute_result"
    }
   ],
   "source": [
    "position"
   ]
  },
  {
   "cell_type": "code",
   "execution_count": null,
   "metadata": {},
   "outputs": [],
   "source": []
  }
 ],
 "metadata": {
  "kernelspec": {
   "display_name": "Python 3",
   "language": "python",
   "name": "python3"
  },
  "language_info": {
   "codemirror_mode": {
    "name": "ipython",
    "version": 3
   },
   "file_extension": ".py",
   "mimetype": "text/x-python",
   "name": "python",
   "nbconvert_exporter": "python",
   "pygments_lexer": "ipython3",
   "version": "3.7.9"
  }
 },
 "nbformat": 4,
 "nbformat_minor": 4
}
